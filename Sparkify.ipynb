{
 "cells": [
  {
   "cell_type": "markdown",
   "metadata": {},
   "source": [
    "# Sparkify Project Workspace\n",
    "This workspace contains a tiny subset (128MB) of the full dataset available (12GB). Feel free to use this workspace to build your project, or to explore a smaller subset with Spark before deploying your cluster on the cloud. Instructions for setting up your Spark cluster is included in the last lesson of the Extracurricular Spark Course content.\n",
    "\n",
    "You can follow the steps below to guide your data analysis and model building portion of this project."
   ]
  },
  {
   "cell_type": "code",
   "execution_count": 1,
   "metadata": {},
   "outputs": [],
   "source": [
    "# import libraries \n",
    "from pyspark.sql import DataFrame, SparkSession\n",
    "import os\n",
    "from os import listdir\n",
    "import pandas as pd\n",
    "\n",
    "\n",
    "# from pyspark.ml import Pipeline\n",
    "from pyspark.ml.classification import RandomForestClassifier, LogisticRegression, GBTClassifier\n",
    "from pyspark.ml.evaluation import MulticlassClassificationEvaluator\n",
    "from pyspark.ml.feature import VectorAssembler, StandardScaler\n",
    "from pyspark.ml.tuning import CrossValidator, ParamGridBuilder\n",
    "from pyspark.mllib.evaluation import MulticlassMetrics\n",
    "# import subprocess\n",
    "import seaborn as sns\n",
    "import matplotlib.pyplot  as plt\n",
    "import datetime\n",
    "import numpy as np\n",
    "from pyspark.sql.window import Window\n",
    "from pyspark.sql.functions import col, when, udf, regexp_replace,max,min,substring,countDistinct,desc,asc\n",
    "from pyspark.sql import functions as F\n",
    "from pyspark.sql.types import StringType,DateType,FloatType\n",
    "from pyspark.sql import SQLContext\n",
    "from pyspark.sql.types import StructType,StructField, StringType"
   ]
  },
  {
   "cell_type": "code",
   "execution_count": 2,
   "metadata": {},
   "outputs": [],
   "source": [
    "# create a Spark session\n",
    "spark= SparkSession.builder.getOrCreate()\n"
   ]
  },
  {
   "cell_type": "markdown",
   "metadata": {},
   "source": [
    "# Load and Clean Dataset\n",
    "In this workspace, the mini-dataset file is `mini_sparkify_event_data.json`. Load and clean the dataset, checking for invalid or missing data - for example, records without userids or sessionids. "
   ]
  },
  {
   "cell_type": "code",
   "execution_count": 3,
   "metadata": {},
   "outputs": [
    {
     "name": "stdout",
     "output_type": "stream",
     "text": [
      "root\n",
      " |-- artist: string (nullable = true)\n",
      " |-- auth: string (nullable = true)\n",
      " |-- firstName: string (nullable = true)\n",
      " |-- gender: string (nullable = true)\n",
      " |-- itemInSession: long (nullable = true)\n",
      " |-- lastName: string (nullable = true)\n",
      " |-- length: double (nullable = true)\n",
      " |-- level: string (nullable = true)\n",
      " |-- location: string (nullable = true)\n",
      " |-- method: string (nullable = true)\n",
      " |-- page: string (nullable = true)\n",
      " |-- registration: long (nullable = true)\n",
      " |-- sessionId: long (nullable = true)\n",
      " |-- song: string (nullable = true)\n",
      " |-- status: long (nullable = true)\n",
      " |-- ts: long (nullable = true)\n",
      " |-- userAgent: string (nullable = true)\n",
      " |-- userId: string (nullable = true)\n",
      "\n"
     ]
    },
    {
     "data": {
      "text/plain": [
       "286500"
      ]
     },
     "execution_count": 3,
     "metadata": {},
     "output_type": "execute_result"
    }
   ],
   "source": [
    "df=spark.read.json('mini_sparkify_event_data.json')\n",
    "df.printSchema()\n",
    "df.count()\n",
    "\n",
    "    \n"
   ]
  },
  {
   "cell_type": "markdown",
   "metadata": {},
   "source": [
    "Looking at the missing values in each column, we can see that there are a few missing values in columns such as artist,length etc."
   ]
  },
  {
   "cell_type": "code",
   "execution_count": 57,
   "metadata": {},
   "outputs": [
    {
     "data": {
      "text/plain": [
       "['artist',\n",
       " 'firstName',\n",
       " 'gender',\n",
       " 'lastName',\n",
       " 'length',\n",
       " 'location',\n",
       " 'registration',\n",
       " 'song',\n",
       " 'userAgent']"
      ]
     },
     "execution_count": 57,
     "metadata": {},
     "output_type": "execute_result"
    }
   ],
   "source": [
    "miss_val=df.select([F.count(when(F.isnull(a), a)).alias(a) for a in df.columns])\n",
    "missing_values=miss_val.toPandas()\n",
    "missing_values\n",
    "miss_val_per=df.select([(F.count(when(F.isnull(a), a))/F.count(F.lit(1))*100).alias(a) for a in df.columns])\n",
    "missing_values_percent=miss_val_per.toPandas()\n",
    "missing_values_percent\n",
    "columns=[]\n",
    "for col in df.columns:\n",
    "    feature_nulls = df.filter(F.col(col).isNull()).count()\n",
    "    if(feature_nulls>0):\n",
    "        columns.append(col)\n",
    "columns"
   ]
  },
  {
   "cell_type": "markdown",
   "metadata": {},
   "source": [
    "Removing the blank user ids"
   ]
  },
  {
   "cell_type": "code",
   "execution_count": 4,
   "metadata": {},
   "outputs": [
    {
     "data": {
      "text/plain": [
       "8346"
      ]
     },
     "execution_count": 4,
     "metadata": {},
     "output_type": "execute_result"
    }
   ],
   "source": [
    "df1=df.select( \"userID\", F.col(\"userID\").cast(\"int\").isNotNull().alias(\"Value\"))\n",
    "df1.filter(df1['Value']==False).count()"
   ]
  },
  {
   "cell_type": "code",
   "execution_count": 5,
   "metadata": {},
   "outputs": [
    {
     "data": {
      "text/plain": [
       "278154"
      ]
     },
     "execution_count": 5,
     "metadata": {},
     "output_type": "execute_result"
    }
   ],
   "source": [
    "df=df.select(\"*\").where((df.userId != \"\"))\n",
    "df.count()"
   ]
  },
  {
   "cell_type": "markdown",
   "metadata": {},
   "source": [
    "# Exploratory Data Analysis\n",
    "When you're working with the full dataset, perform EDA by loading a small subset of the data and doing basic manipulations within Spark. In this workspace, you are already provided a small subset of data you can explore.\n",
    "\n",
    "### Define Churn\n",
    "\n",
    "Once you've done some preliminary analysis, create a column `Churn` to use as the label for your model. I suggest using the `Cancellation Confirmation` events to define your churn, which happen for both paid and free users. As a bonus task, you can also look into the `Downgrade` events.\n",
    "\n",
    "### Explore Data\n",
    "Once you've defined churn, perform some exploratory data analysis to observe the behavior for users who stayed vs users who churned. You can start by exploring aggregates on these two groups of users, observing how much of a specific action they experienced per a certain time unit or number of songs played."
   ]
  },
  {
   "cell_type": "markdown",
   "metadata": {},
   "source": [
    "Looking at the different variables/features"
   ]
  },
  {
   "cell_type": "code",
   "execution_count": 8,
   "metadata": {},
   "outputs": [
    {
     "name": "stdout",
     "output_type": "stream",
     "text": [
      "+------+------+\n",
      "|method| count|\n",
      "+------+------+\n",
      "|   PUT|257818|\n",
      "|   GET| 20336|\n",
      "+------+------+\n",
      "\n"
     ]
    }
   ],
   "source": [
    "df.groupby(\"method\").count().show()"
   ]
  },
  {
   "cell_type": "markdown",
   "metadata": {},
   "source": [
    "The different page actions that a user has taken"
   ]
  },
  {
   "cell_type": "code",
   "execution_count": 9,
   "metadata": {},
   "outputs": [
    {
     "name": "stdout",
     "output_type": "stream",
     "text": [
      "+--------------------+------+\n",
      "|                page| count|\n",
      "+--------------------+------+\n",
      "|              Cancel|    52|\n",
      "|    Submit Downgrade|    63|\n",
      "|         Thumbs Down|  2546|\n",
      "|                Home| 10082|\n",
      "|           Downgrade|  2055|\n",
      "|         Roll Advert|  3933|\n",
      "|              Logout|  3226|\n",
      "|       Save Settings|   310|\n",
      "|Cancellation Conf...|    52|\n",
      "|               About|   495|\n",
      "|            Settings|  1514|\n",
      "|     Add to Playlist|  6526|\n",
      "|          Add Friend|  4277|\n",
      "|            NextSong|228108|\n",
      "|           Thumbs Up| 12551|\n",
      "|                Help|  1454|\n",
      "|             Upgrade|   499|\n",
      "|               Error|   252|\n",
      "|      Submit Upgrade|   159|\n",
      "+--------------------+------+\n",
      "\n"
     ]
    }
   ],
   "source": [
    "df.groupby(\"page\").count().show()"
   ]
  },
  {
   "cell_type": "code",
   "execution_count": 10,
   "metadata": {},
   "outputs": [
    {
     "name": "stdout",
     "output_type": "stream",
     "text": [
      "+------+------+\n",
      "|status| count|\n",
      "+------+------+\n",
      "|   307| 23184|\n",
      "|   404|   252|\n",
      "|   200|254718|\n",
      "+------+------+\n",
      "\n"
     ]
    }
   ],
   "source": [
    "df.groupby(\"status\").count().show()"
   ]
  },
  {
   "cell_type": "code",
   "execution_count": 11,
   "metadata": {},
   "outputs": [
    {
     "name": "stdout",
     "output_type": "stream",
     "text": [
      "+-----+------+\n",
      "|level| count|\n",
      "+-----+------+\n",
      "| free| 55721|\n",
      "| paid|222433|\n",
      "+-----+------+\n",
      "\n"
     ]
    }
   ],
   "source": [
    "df.groupby(\"level\").count().show()"
   ]
  },
  {
   "cell_type": "markdown",
   "metadata": {},
   "source": [
    "Creating our churn variable with page action = cancellation confirmation. Only 52 unique users have churned"
   ]
  },
  {
   "cell_type": "code",
   "execution_count": 6,
   "metadata": {},
   "outputs": [],
   "source": [
    "# Only 52 users who churned.\n",
    "df=df.withColumn(\"churn\",when((col('page')==\"Cancellation Confirmation\"),1)\n",
    "                 .otherwise(0))  \n",
    "\n",
    "#Using window functions to get churn between timestamps\n",
    "\n",
    "w = Window.partitionBy(\"userId\").orderBy(desc(\"ts\")).rangeBetween(Window.unboundedPreceding,Window.currentRow)\n",
    "df=df.withColumn(\"all_churn\", max(\"churn\").over(w))\n"
   ]
  },
  {
   "cell_type": "markdown",
   "metadata": {},
   "source": [
    "Looking at the timestamp(ts) variable to get a look at the activity of users across time. "
   ]
  },
  {
   "cell_type": "code",
   "execution_count": 7,
   "metadata": {},
   "outputs": [],
   "source": [
    "#Divide by 1000 because Javascript uses milliseconds internally, while normal UNIX timestamps are usually in seconds.\n",
    "date_time_format_udf = udf(lambda x: datetime.datetime.fromtimestamp(x/1000.0),DateType())"
   ]
  },
  {
   "cell_type": "code",
   "execution_count": 9,
   "metadata": {},
   "outputs": [],
   "source": [
    "df=df.withColumn('new_registration',date_time_format_udf('registration'))\n",
    "df=df.withColumn('new_ts',date_time_format_udf('ts'))\n",
    "# df=df.withColumn('new_ts',df.new_ts.cast('int'))\n",
    "# df=df.withColumn('new_registration',df.new_registration.cast('int'))\n"
   ]
  },
  {
   "cell_type": "code",
   "execution_count": 22,
   "metadata": {},
   "outputs": [
    {
     "name": "stdout",
     "output_type": "stream",
     "text": [
      "+----------+\n",
      "|    new_ts|\n",
      "+----------+\n",
      "|2018-10-01|\n",
      "|2018-10-01|\n",
      "|2018-10-01|\n",
      "|2018-10-01|\n",
      "|2018-10-01|\n",
      "|2018-10-01|\n",
      "|2018-10-01|\n",
      "|2018-10-01|\n",
      "|2018-10-01|\n",
      "|2018-10-01|\n",
      "+----------+\n",
      "only showing top 10 rows\n",
      "\n"
     ]
    }
   ],
   "source": [
    "df.select('new_ts').show(10)"
   ]
  },
  {
   "cell_type": "markdown",
   "metadata": {},
   "source": [
    "We can see that the number of songs played are highest between the 15th and 17th hours"
   ]
  },
  {
   "cell_type": "code",
   "execution_count": 138,
   "metadata": {},
   "outputs": [],
   "source": [
    "daily_songs = df.select(['song','new_ts']).where(df.page=='NextSong').groupby('new_ts')\\\n",
    "             .agg(F.count('song')).withColumnRenamed('count(song)','Number of songs')\\\n",
    "             .withColumnRenamed('new_ts','Hours').orderBy('new_ts',descending=False).toPandas()\n",
    "\n"
   ]
  },
  {
   "cell_type": "code",
   "execution_count": 139,
   "metadata": {},
   "outputs": [
    {
     "data": {
      "image/png": "[encoded data removed]",
      "text/plain": [
       "<matplotlib.figure.Figure at 0x7fc7110b9828>"
      ]
     },
     "metadata": {
      "needs_background": "light"
     },
     "output_type": "display_data"
    }
   ],
   "source": [
    "daily_songs.plot.bar(x='Hours', y='Number of songs',legend= None, stacked=True, width=0.5, figsize=(10, 5))\n",
    "plt.title('Songs played every hour everyday');\n",
    "plt.show()"
   ]
  },
  {
   "cell_type": "markdown",
   "metadata": {},
   "source": [
    "Page Action next song is the highest followed by the thumbs up "
   ]
  },
  {
   "cell_type": "code",
   "execution_count": 121,
   "metadata": {},
   "outputs": [
    {
     "data": {
      "image/png": "[encoded data removed]",
      "text/plain": [
       "<matplotlib.figure.Figure at 0x7fc711202e10>"
      ]
     },
     "metadata": {
      "needs_background": "light"
     },
     "output_type": "display_data"
    }
   ],
   "source": [
    "page_actions=df.groupby(\"page\").count().sort(\"count\",asc=False).toPandas()\n",
    "page_actions.plot.bar(x='page', y='count', legend=None)\n",
    "plt.title('Total number of actions');\n",
    "plt.show()"
   ]
  },
  {
   "cell_type": "code",
   "execution_count": 122,
   "metadata": {},
   "outputs": [
    {
     "name": "stdout",
     "output_type": "stream",
     "text": [
      "+--------------------+-----+\n",
      "|              artist|count|\n",
      "+--------------------+-----+\n",
      "|                null|50046|\n",
      "|       Kings Of Leon| 1841|\n",
      "|            Coldplay| 1813|\n",
      "|Florence + The Ma...| 1236|\n",
      "|       Dwight Yoakam| 1135|\n",
      "|            BjÃÂ¶rk| 1133|\n",
      "|      The Black Keys| 1125|\n",
      "|                Muse| 1090|\n",
      "|       Justin Bieber| 1044|\n",
      "|        Jack Johnson| 1007|\n",
      "+--------------------+-----+\n",
      "only showing top 10 rows\n",
      "\n"
     ]
    }
   ],
   "source": [
    "# Top artists played\n",
    "df.groupby('artist').count().orderBy(\"count\",ascending=False).show(10)"
   ]
  },
  {
   "cell_type": "code",
   "execution_count": 123,
   "metadata": {},
   "outputs": [
    {
     "name": "stdout",
     "output_type": "stream",
     "text": [
      "+--------------------+-----+\n",
      "|                song|count|\n",
      "+--------------------+-----+\n",
      "|                null|50046|\n",
      "|      You're The One| 1153|\n",
      "|                Undo| 1026|\n",
      "|             Revelry|  854|\n",
      "|       Sehr kosmisch|  728|\n",
      "|Horn Concerto No....|  641|\n",
      "|Dog Days Are Over...|  574|\n",
      "|             Secrets|  466|\n",
      "|        Use Somebody|  459|\n",
      "|              Canada|  435|\n",
      "+--------------------+-----+\n",
      "only showing top 10 rows\n",
      "\n"
     ]
    }
   ],
   "source": [
    "# Top songs played\n",
    "df.groupby('song').count().orderBy(\"count\",ascending=False).show(10)"
   ]
  },
  {
   "cell_type": "code",
   "execution_count": 49,
   "metadata": {},
   "outputs": [
    {
     "name": "stdout",
     "output_type": "stream",
     "text": [
      "+---------+------+\n",
      "|all_churn| count|\n",
      "+---------+------+\n",
      "|        1| 36394|\n",
      "|        0|191714|\n",
      "+---------+------+\n",
      "\n"
     ]
    }
   ],
   "source": [
    "# Number of NextSong actions taken by the 2 groups\n",
    "df.filter(F.col('page')==\"NextSong\").groupBy('all_churn').count().show(2)"
   ]
  },
  {
   "cell_type": "markdown",
   "metadata": {},
   "source": [
    "We can see that the people who have a free account have had a higher churn rate than the people who have a paid account"
   ]
  },
  {
   "cell_type": "code",
   "execution_count": 125,
   "metadata": {},
   "outputs": [
    {
     "name": "stdout",
     "output_type": "stream",
     "text": [
      "+---------+----------------------------------+\n",
      "|all_churn|((count(all_churn) / 55721) * 100)|\n",
      "+---------+----------------------------------+\n",
      "|        1|                22.232192530643744|\n",
      "|        0|                 77.76780746935626|\n",
      "+---------+----------------------------------+\n",
      "\n"
     ]
    }
   ],
   "source": [
    "# Percentage of people who churned who had free/paid accounts \n",
    "tot_free=df.filter(F.col('level')==\"free\").count()\n",
    "free=df.filter(F.col('level')==\"free\").groupBy('all_churn')\\\n",
    "    .agg(F.count('all_churn')/tot_free*100).show()\n",
    "\n"
   ]
  },
  {
   "cell_type": "code",
   "execution_count": 126,
   "metadata": {},
   "outputs": [
    {
     "name": "stdout",
     "output_type": "stream",
     "text": [
      "+---------+-----------------------------------+\n",
      "|all_churn|((count(all_churn) / 222433) * 100)|\n",
      "+---------+-----------------------------------+\n",
      "|        1|                 14.600351566539139|\n",
      "|        0|                  85.39964843346087|\n",
      "+---------+-----------------------------------+\n",
      "\n"
     ]
    }
   ],
   "source": [
    "tot_paid=df.filter(F.col('level')==\"paid\").count()\n",
    "paid=df.filter(F.col('level')==\"paid\").groupBy('all_churn').agg(F.count('all_churn')/tot_paid*100).show()"
   ]
  },
  {
   "cell_type": "code",
   "execution_count": 127,
   "metadata": {},
   "outputs": [
    {
     "data": {
      "text/plain": [
       "<matplotlib.axes._subplots.AxesSubplot at 0x7fc710e6ebe0>"
      ]
     },
     "execution_count": 127,
     "metadata": {},
     "output_type": "execute_result"
    },
    {
     "data": {
      "image/png": "[encoded data removed]",
      "text/plain": [
       "<matplotlib.figure.Figure at 0x7fc710e22da0>"
      ]
     },
     "metadata": {
      "needs_background": "light"
     },
     "output_type": "display_data"
    }
   ],
   "source": [
    "churn_level=df.groupby('all_churn','level').count().toPandas()\n",
    "sns.barplot(data= churn_level, x='level', y='count', hue='all_churn')"
   ]
  },
  {
   "cell_type": "markdown",
   "metadata": {},
   "source": [
    "Average number of songs played is higher when the customer has not churned"
   ]
  },
  {
   "cell_type": "code",
   "execution_count": 128,
   "metadata": {},
   "outputs": [
    {
     "name": "stdout",
     "output_type": "stream",
     "text": [
      "+---------+-------------------------------------------+\n",
      "|all_churn|(count(all_churn) / count(DISTINCT userID))|\n",
      "+---------+-------------------------------------------+\n",
      "|        1|                          699.8846153846154|\n",
      "|        0|                         1108.1734104046243|\n",
      "+---------+-------------------------------------------+\n",
      "\n"
     ]
    }
   ],
   "source": [
    "# average songs played in the two groups\n",
    "churn_songs=df.filter(F.col('page')==\"NextSong\").groupBy('all_churn').agg(F.count('all_churn')/F.countDistinct('userID')).show()"
   ]
  },
  {
   "cell_type": "code",
   "execution_count": 129,
   "metadata": {},
   "outputs": [
    {
     "name": "stdout",
     "output_type": "stream",
     "text": [
      "+---------+-----------+------+\n",
      "|all_churn|thumbs_down| count|\n",
      "+---------+-----------+------+\n",
      "|        1|         no| 44368|\n",
      "|        1|        yes|   496|\n",
      "|        0|         no|231240|\n",
      "|        0|        yes|  2050|\n",
      "+---------+-----------+------+\n",
      "\n"
     ]
    }
   ],
   "source": [
    "df=df.withColumn('thumbs_down',when((F.col('page')=='Thumbs Down'),'yes').otherwise('no'))\n",
    "tud=df.groupby('all_churn','thumbs_down').count().show()"
   ]
  },
  {
   "cell_type": "markdown",
   "metadata": {},
   "source": [
    "We can see that the thumbs down rate is slightly higher for people who have churned"
   ]
  },
  {
   "cell_type": "code",
   "execution_count": 130,
   "metadata": {},
   "outputs": [
    {
     "name": "stdout",
     "output_type": "stream",
     "text": [
      "+-----------+------------------+\n",
      "|thumbs_down|     Thumbs down %|\n",
      "+-----------+------------------+\n",
      "|         no| 98.89443651925819|\n",
      "|        yes|1.1055634807417976|\n",
      "+-----------+------------------+\n",
      "\n"
     ]
    }
   ],
   "source": [
    "churn_count=df.filter(F.col('all_churn')==1).count()\n",
    "down_percentage=df.filter(F.col('all_churn')==1).groupBy('thumbs_down').agg(F.count('all_churn')/churn_count*100)\\\n",
    ".withColumnRenamed('((count(all_churn) / 44864) * 100)','Thumbs down %').show()"
   ]
  },
  {
   "cell_type": "code",
   "execution_count": 131,
   "metadata": {},
   "outputs": [
    {
     "name": "stdout",
     "output_type": "stream",
     "text": [
      "+-----------+------------------+\n",
      "|thumbs_down|     Thumbs down %|\n",
      "+-----------+------------------+\n",
      "|         no| 99.12126537785588|\n",
      "|        yes|0.8787346221441126|\n",
      "+-----------+------------------+\n",
      "\n"
     ]
    }
   ],
   "source": [
    "non_churn_count=df.filter(F.col('all_churn')==0).count()\n",
    "down_percentage=df.filter(F.col('all_churn')==0).groupBy('thumbs_down').agg(F.count('all_churn')/non_churn_count*100)\\\n",
    ".withColumnRenamed('((count(all_churn) / 233290) * 100)','Thumbs down %').show()"
   ]
  },
  {
   "cell_type": "markdown",
   "metadata": {},
   "source": [
    "The number of males who churn is higher than the females"
   ]
  },
  {
   "cell_type": "code",
   "execution_count": 132,
   "metadata": {},
   "outputs": [
    {
     "data": {
      "text/plain": [
       "<matplotlib.axes._subplots.AxesSubplot at 0x7fc710da4320>"
      ]
     },
     "execution_count": 132,
     "metadata": {},
     "output_type": "execute_result"
    },
    {
     "data": {
      "image/png": "[encoded data removed]",
      "text/plain": [
       "<matplotlib.figure.Figure at 0x7fc710da4630>"
      ]
     },
     "metadata": {
      "needs_background": "light"
     },
     "output_type": "display_data"
    }
   ],
   "source": [
    "churn_gender = df.dropDuplicates(['userId']).groupby(['all_churn','gender']).agg(F.count('userId'))\\\n",
    ".withColumnRenamed('count(userId)','Number of users').toPandas()\n",
    "sns.barplot(data = churn_gender, x='gender', y='Number of users', hue='all_churn')"
   ]
  },
  {
   "cell_type": "markdown",
   "metadata": {},
   "source": [
    "# Feature Engineering\n",
    "Once you've familiarized yourself with the data, build out the features you find promising to train your model on. To work with the full dataset, you can follow the following steps.\n",
    "- Write a script to extract the necessary features from the smaller subset of data\n",
    "- Ensure that your script is scalable, using the best practices discussed in Lesson 3\n",
    "- Try your script on the full data set, debugging your script if necessary\n",
    "\n",
    "If you are working in the classroom workspace, you can just extract features based on the small subset of data contained here. Be sure to transfer over this work to the larger dataset when you work on your Spark cluster."
   ]
  },
  {
   "cell_type": "code",
   "execution_count": 10,
   "metadata": {},
   "outputs": [],
   "source": [
    "# creating a list of the feature page actions that I want as features\n",
    "features_from_page_list = ['Downgrade','Thumbs Down', 'Thumbs Up', 'Add to Playlist', \n",
    "                            'Add Friend', 'Error', 'Home', 'Roll Advert']"
   ]
  },
  {
   "cell_type": "code",
   "execution_count": 11,
   "metadata": {},
   "outputs": [],
   "source": [
    "# function to extract features from page\n",
    "def extract_page_feature(df, page_action):\n",
    "    \n",
    "    '''\n",
    "    This function creates individual page action features from the page column\n",
    "    \n",
    "    input:\n",
    "    df- sparkify dataframe\n",
    "    page_action-the page action taken by the user \n",
    "    \n",
    "    output:\n",
    "    page_feature- page_action feature\n",
    "    \n",
    "    '''\n",
    "    \n",
    "    page_feature= df.filter(df.page==page_action).groupby('userId').agg(F.count('page'))\\\n",
    "                  .withColumnRenamed('count(page)', page_action)\n",
    "    return page_feature\n",
    "\n",
    "\n"
   ]
  },
  {
   "cell_type": "code",
   "execution_count": 12,
   "metadata": {},
   "outputs": [
    {
     "data": {
      "text/plain": [
       "225"
      ]
     },
     "execution_count": 12,
     "metadata": {},
     "output_type": "execute_result"
    }
   ],
   "source": [
    "# creating a dataframe for the features\n",
    "df_page_features = df.select('userId').groupby('userId').count()\n",
    "df_page_features.count()\n"
   ]
  },
  {
   "cell_type": "code",
   "execution_count": 13,
   "metadata": {},
   "outputs": [],
   "source": [
    "for feature in features_from_page_list :\n",
    "    page_feature = extract_page_feature(df, feature)\n",
    "    df_page_features  = df_page_features.join(page_feature,'userId','outer')"
   ]
  },
  {
   "cell_type": "code",
   "execution_count": 14,
   "metadata": {},
   "outputs": [
    {
     "data": {
      "text/plain": [
       "225"
      ]
     },
     "execution_count": 14,
     "metadata": {},
     "output_type": "execute_result"
    }
   ],
   "source": [
    "# df_page_features.show()\n",
    "df_page_features.count()"
   ]
  },
  {
   "cell_type": "code",
   "execution_count": 15,
   "metadata": {},
   "outputs": [
    {
     "name": "stdout",
     "output_type": "stream",
     "text": [
      "+------+-----------+\n",
      "|userId|total_songs|\n",
      "+------+-----------+\n",
      "|100010|        381|\n",
      "|200002|        474|\n",
      "|   125|         11|\n",
      "|    51|       2464|\n",
      "|   124|       4825|\n",
      "|     7|        201|\n",
      "|    54|       3437|\n",
      "|    15|       2278|\n",
      "|   155|       1002|\n",
      "|   132|       2304|\n",
      "|   154|        118|\n",
      "|100014|        310|\n",
      "|   101|       2149|\n",
      "|    11|        848|\n",
      "|   138|       2469|\n",
      "|300017|       4428|\n",
      "|    29|       3603|\n",
      "|    69|       1342|\n",
      "|100021|        319|\n",
      "|    42|       4257|\n",
      "+------+-----------+\n",
      "only showing top 20 rows\n",
      "\n"
     ]
    }
   ],
   "source": [
    "# Total songs listened to by the user\n",
    "songs_feature= df.select('userId', 'song').groupBy('userId').count().withColumnRenamed('count', 'total_songs')\n",
    "songs_feature.show()"
   ]
  },
  {
   "cell_type": "code",
   "execution_count": 16,
   "metadata": {},
   "outputs": [
    {
     "name": "stdout",
     "output_type": "stream",
     "text": [
      "+------+-----------+\n",
      "|userId|gender_feat|\n",
      "+------+-----------+\n",
      "|100010|          0|\n",
      "|200002|          1|\n",
      "|   125|          1|\n",
      "|    51|          1|\n",
      "|   124|          0|\n",
      "|     7|          1|\n",
      "|    54|          0|\n",
      "|    15|          1|\n",
      "|   155|          0|\n",
      "|   132|          0|\n",
      "|   154|          0|\n",
      "|100014|          1|\n",
      "|   101|          1|\n",
      "|    11|          0|\n",
      "|   138|          1|\n",
      "|300017|          0|\n",
      "|    29|          1|\n",
      "|    69|          0|\n",
      "|100021|          1|\n",
      "|    42|          0|\n",
      "+------+-----------+\n",
      "only showing top 20 rows\n",
      "\n"
     ]
    }
   ],
   "source": [
    "#Gender\n",
    "df=df.withColumn('gender_feat',when((col('gender')=='M'),1).otherwise(0))\n",
    "gender_feature=df.select('userId', 'gender_feat').groupBy('userId')\\\n",
    "              .agg(max('gender_feat')).withColumnRenamed('max(gender_feat)','gender_feat')\n",
    "gender_feature.show()"
   ]
  },
  {
   "cell_type": "code",
   "execution_count": 17,
   "metadata": {},
   "outputs": [
    {
     "name": "stdout",
     "output_type": "stream",
     "text": [
      "+------+----------+\n",
      "|userId|level_feat|\n",
      "+------+----------+\n",
      "|100010|         0|\n",
      "|200002|         1|\n",
      "|   125|         0|\n",
      "|    51|         1|\n",
      "|   124|         1|\n",
      "|     7|         0|\n",
      "|    54|         1|\n",
      "|    15|         1|\n",
      "|   155|         1|\n",
      "|   132|         1|\n",
      "|   154|         0|\n",
      "|100014|         1|\n",
      "|   101|         1|\n",
      "|    11|         1|\n",
      "|   138|         1|\n",
      "|300017|         1|\n",
      "|    29|         1|\n",
      "|    69|         1|\n",
      "|100021|         0|\n",
      "|    42|         1|\n",
      "+------+----------+\n",
      "only showing top 20 rows\n",
      "\n"
     ]
    }
   ],
   "source": [
    "#Level- free or paid\n",
    "df=df.withColumn('level_feat',when((col('level')=='paid'),1).otherwise(0))\n",
    "level_feature=df.select('userId', 'level_feat').groupBy('userId')\\\n",
    "              .agg(max('level_feat')).withColumnRenamed('max(level_feat)','level_feat')\n",
    "level_feature.show()"
   ]
  },
  {
   "cell_type": "code",
   "execution_count": 18,
   "metadata": {},
   "outputs": [
    {
     "name": "stdout",
     "output_type": "stream",
     "text": [
      "+------+----------------------+\n",
      "|userID|time_since_reg_feature|\n",
      "+------+----------------------+\n",
      "|100010|            4807612000|\n",
      "|200002|            6054448000|\n",
      "|   125|            6161779000|\n",
      "|    51|            1680985000|\n",
      "|   124|           11366431000|\n",
      "+------+----------------------+\n",
      "only showing top 5 rows\n",
      "\n"
     ]
    }
   ],
   "source": [
    "# What is the time since the user registered\n",
    "df=df.withColumn('time_since_registration',(df.ts-df.registration))\n",
    "# df.select('new_ts','new_registration','time_since_registration').show()\n",
    "time_feature=df.select('userID','time_since_registration').groupBy('userID')\\\n",
    "             .agg(max('time_since_registration')).withColumnRenamed('max(time_since_registration)','time_since_reg_feature')\n",
    "time_feature.show(5)"
   ]
  },
  {
   "cell_type": "code",
   "execution_count": 19,
   "metadata": {},
   "outputs": [],
   "source": [
    "total_artists_feature = df.filter(df.page == \"NextSong\").select(\"userId\", \"artist\").dropDuplicates()\\\n",
    "                       .groupby(\"userId\").count().withColumnRenamed(\"count\", \"total_artists_played_feat\")"
   ]
  },
  {
   "cell_type": "code",
   "execution_count": 20,
   "metadata": {},
   "outputs": [],
   "source": [
    "song_time_feature= df.select('userID','length').groupBy('userID').sum('length')\\\n",
    "                   .withColumnRenamed('sum(length)','listening_time_feat')"
   ]
  },
  {
   "cell_type": "code",
   "execution_count": 21,
   "metadata": {},
   "outputs": [
    {
     "name": "stdout",
     "output_type": "stream",
     "text": [
      "+------+-------------------+\n",
      "|userID|listening_time_feat|\n",
      "+------+-------------------+\n",
      "|100010|  66940.89735000003|\n",
      "|200002|  94008.87593999993|\n",
      "|   125| 2089.1131000000005|\n",
      "|    51|  523275.8428000004|\n",
      "|   124| 1012312.0927899999|\n",
      "|     7|  38034.08710000002|\n",
      "|    54|  711344.9195400011|\n",
      "|    15| 477307.60581000015|\n",
      "|   155|        198779.2919|\n",
      "|   132|  483118.9038399997|\n",
      "|   154| 20660.023910000007|\n",
      "|100014|  67703.47208000004|\n",
      "|   101|  447464.0146699989|\n",
      "|    11| 159669.96303999983|\n",
      "|   138|  512449.8827599989|\n",
      "|300017|  897406.9802100015|\n",
      "|    29|  754517.5625700009|\n",
      "|    69|  286064.0256399999|\n",
      "|100021|  57633.17563999999|\n",
      "|    42|  881792.9661300007|\n",
      "+------+-------------------+\n",
      "only showing top 20 rows\n",
      "\n"
     ]
    }
   ],
   "source": [
    "song_time_feature.show()"
   ]
  },
  {
   "cell_type": "code",
   "execution_count": 22,
   "metadata": {},
   "outputs": [],
   "source": [
    "labels_data = df.groupBy('userId').agg(max('churn')).withColumnRenamed('max(churn)','churn')\n",
    "# labels_data.count()\n"
   ]
  },
  {
   "cell_type": "code",
   "execution_count": 23,
   "metadata": {},
   "outputs": [],
   "source": [
    "df_final=df_page_features.join(gender_feature,'userID','outer') \\\n",
    "    .join(level_feature,'userID','outer') \\\n",
    "    .join(time_feature,'userID','outer') \\\n",
    "    .join(total_artists_feature,'userID','outer') \\\n",
    "    .join(song_time_feature,'userID','outer') \\\n",
    "    .join(songs_feature,'userID','outer')\\\n",
    "    .join(labels_data,'userID','outer')\\\n",
    "    .drop('count') \\\n",
    "    .fillna(0)"
   ]
  },
  {
   "cell_type": "code",
   "execution_count": 24,
   "metadata": {},
   "outputs": [
    {
     "data": {
      "text/plain": [
       "['userId',\n",
       " 'Downgrade',\n",
       " 'Thumbs Down',\n",
       " 'Thumbs Up',\n",
       " 'Add to Playlist',\n",
       " 'Add Friend',\n",
       " 'Error',\n",
       " 'Home',\n",
       " 'Roll Advert',\n",
       " 'gender_feat',\n",
       " 'level_feat',\n",
       " 'time_since_reg_feature',\n",
       " 'total_artists_played_feat',\n",
       " 'listening_time_feat',\n",
       " 'total_songs',\n",
       " 'churn']"
      ]
     },
     "execution_count": 24,
     "metadata": {},
     "output_type": "execute_result"
    }
   ],
   "source": [
    "# df_final.printSchema() \n",
    "# df_final.filter(col('churn')==1).select('churn').count()\n",
    "df_final.columns"
   ]
  },
  {
   "cell_type": "markdown",
   "metadata": {},
   "source": [
    "14 features that are taken as input features"
   ]
  },
  {
   "cell_type": "code",
   "execution_count": 25,
   "metadata": {},
   "outputs": [],
   "source": [
    "# Features that I want to vectorize\n",
    "vec_features =['Downgrade','Thumbs Down','Thumbs Up','Add to Playlist','Add Friend','Error','Home','Roll Advert','gender_feat',\n",
    "           'level_feat','time_since_reg_feature','total_artists_played_feat','listening_time_feat','total_songs']\n",
    "\n",
    "\n",
    "assembler = VectorAssembler(inputCols=vec_features, outputCol='vectorised_features')\n",
    "final_df= assembler.transform(df_final)"
   ]
  },
  {
   "cell_type": "code",
   "execution_count": 26,
   "metadata": {},
   "outputs": [],
   "source": [
    "scaler = StandardScaler(inputCol='vectorised_features',outputCol='vectorised_features_scaled')\n",
    "scaler_model = scaler.fit(final_df)\n",
    "final_df = scaler_model.transform(final_df)"
   ]
  },
  {
   "cell_type": "code",
   "execution_count": 27,
   "metadata": {},
   "outputs": [],
   "source": [
    "final_data=final_df.select(final_df['vectorised_features_scaled'].alias(\"features\"),final_df['churn'].alias(\"label\"))"
   ]
  },
  {
   "cell_type": "code",
   "execution_count": 28,
   "metadata": {},
   "outputs": [
    {
     "name": "stdout",
     "output_type": "stream",
     "text": [
      "+--------------------+-----+\n",
      "|            features|label|\n",
      "+--------------------+-----+\n",
      "|[0.0,0.3823366215...|    0|\n",
      "|[0.42609718619891...|    0|\n",
      "|(14,[7,8,10,11,12...|    1|\n",
      "|[3.49399692683107...|    0|\n",
      "|[1.96004705651499...|    1|\n",
      "|[0.0,0.0764673243...|    0|\n",
      "|[2.38614424271390...|    0|\n",
      "|[3.32355805235150...|    1|\n",
      "|[1.02263324687738...|    0|\n",
      "|[0.25565831171934...|    1|\n",
      "|[1.61916930755586...|    0|\n",
      "|[0.0,0.0,0.167995...|    0|\n",
      "|[1.87482761927520...|    1|\n",
      "|[0.42609718619891...|    0|\n",
      "|[1.78960818203542...|    0|\n",
      "|[2.13048593099455...|    0|\n",
      "|[0.0,0.3823366215...|    1|\n",
      "|[1.53394987031607...|    1|\n",
      "|[0.76697493515803...|    0|\n",
      "|[0.0,0.2294019729...|    0|\n",
      "+--------------------+-----+\n",
      "only showing top 20 rows\n",
      "\n"
     ]
    }
   ],
   "source": [
    "final_data.show()"
   ]
  },
  {
   "cell_type": "markdown",
   "metadata": {},
   "source": [
    "# Modeling\n",
    "Split the full dataset into train, test, and validation sets. Test out several of the machine learning methods you learned. Evaluate the accuracy of the various models, tuning parameters as necessary. Determine your winning model based on test accuracy and report results on the validation set. Since the churned users are a fairly small subset, I suggest using F1 score as the metric to optimize."
   ]
  },
  {
   "cell_type": "markdown",
   "metadata": {},
   "source": [
    "Splitting the data into a 70:30 split of train and test datasets as it was found to be the best split"
   ]
  },
  {
   "cell_type": "code",
   "execution_count": 33,
   "metadata": {},
   "outputs": [],
   "source": [
    "train,test=final_data.randomSplit([0.7, 0.3], seed=100)"
   ]
  },
  {
   "cell_type": "markdown",
   "metadata": {},
   "source": [
    "Three models were used for the classification problem\n",
    "1. Logistic Regression\n",
    "2. Random Forest\n",
    "3. XGBoost"
   ]
  },
  {
   "cell_type": "markdown",
   "metadata": {},
   "source": [
    "# logistic regression model"
   ]
  },
  {
   "cell_type": "code",
   "execution_count": 34,
   "metadata": {},
   "outputs": [],
   "source": [
    "# Build the model\n",
    "log_reg=LogisticRegression(elasticNetParam=0.1)\n",
    "\n",
    "# using F1-score as the classification evalution metric\n",
    "f1_score_evaluator=MulticlassClassificationEvaluator(metricName='f1')\n",
    "\n",
    "# Building the Parameters bounds\n",
    "parameter_grid_lr=ParamGridBuilder()\\\n",
    "            .addGrid(log_reg.regParam,[0.0, 0.1])\\\n",
    "            .addGrid(log_reg.maxIter,[10, 30])\\\n",
    "            .build()\n",
    "\n",
    "# Performing cross-validation\n",
    "cross_validation_lr=CrossValidator(estimator=log_reg,estimatorParamMaps=parameter_grid_lr,\n",
    "                                      evaluator=f1_score_evaluator,numFolds=2)\n",
    "\n"
   ]
  },
  {
   "cell_type": "code",
   "execution_count": 31,
   "metadata": {},
   "outputs": [],
   "source": [
    "# Training the model\n",
    "lr=cross_validation_lr.fit(train)\n",
    "\n",
    "# Fitting the model on test dataset\n",
    "lr_predictions=lr.transform(test)\n"
   ]
  },
  {
   "cell_type": "code",
   "execution_count": 32,
   "metadata": {},
   "outputs": [],
   "source": [
    "# Calculating f1-score to check performance of the logistic model\n",
    "f1_metric_score_lr=f1_score_evaluator.evaluate(lr_predictions)"
   ]
  },
  {
   "cell_type": "markdown",
   "metadata": {},
   "source": [
    "# Random Forest"
   ]
  },
  {
   "cell_type": "code",
   "execution_count": 35,
   "metadata": {},
   "outputs": [],
   "source": [
    "random_forest = RandomForestClassifier()\n",
    "\n",
    "parameter_grid_rf=ParamGridBuilder()\\\n",
    "            .addGrid(random_forest.numTrees, [20, 30])\\\n",
    "            .addGrid(random_forest.maxDepth, [10, 20]) \\\n",
    "            .build()\n",
    "\n",
    "cross_validation_rf=CrossValidator(estimator=random_forest,estimatorParamMaps=parameter_grid_rf,\n",
    "                                      evaluator=f1_score_evaluator,numFolds=2)\n",
    "\n",
    "\n"
   ]
  },
  {
   "cell_type": "code",
   "execution_count": 36,
   "metadata": {},
   "outputs": [],
   "source": [
    "rf=cross_validation_rf.fit(train)\n",
    "\n",
    "rf_predictions=rf.transform(test)\n",
    "\n",
    "f1_metric_score_rf = f1_score_evaluator.evaluate(rf_predictions)\n"
   ]
  },
  {
   "cell_type": "markdown",
   "metadata": {},
   "source": [
    "# XGBoost"
   ]
  },
  {
   "cell_type": "code",
   "execution_count": 37,
   "metadata": {},
   "outputs": [],
   "source": [
    "gradient_booster=GBTClassifier(maxIter=10,seed=100)\n",
    "\n",
    "parameter_grid_gbt=ParamGridBuilder()\\\n",
    "          .addGrid(gradient_booster.maxDepth,[5, 10])\\\n",
    "          .build()\n",
    "\n",
    "cross_validation_gbt=CrossValidator(estimator=gradient_booster,estimatorParamMaps=parameter_grid_gbt,\n",
    "                          evaluator=f1_score_evaluator,\n",
    "                          numFolds=2)\n"
   ]
  },
  {
   "cell_type": "code",
   "execution_count": 38,
   "metadata": {},
   "outputs": [],
   "source": [
    "gbt=cross_validation_gbt.fit(train)\n",
    "\n",
    "gbt_predictions=rf.transform(test)\n",
    "\n",
    "f1_metric_score_gbt = f1_score_evaluator.evaluate(gbt_predictions)"
   ]
  },
  {
   "cell_type": "markdown",
   "metadata": {},
   "source": [
    "# Feature importances for xgboost"
   ]
  },
  {
   "cell_type": "markdown",
   "metadata": {},
   "source": [
    "It was found that the below parameters were the best for the xgboost model"
   ]
  },
  {
   "cell_type": "code",
   "execution_count": 45,
   "metadata": {},
   "outputs": [
    {
     "data": {
      "text/plain": [
       "SparseVector(14, {0: 0.0199, 1: 0.1911, 2: 0.106, 3: 0.1015, 4: 0.1016, 5: 0.0067, 6: 0.0636, 7: 0.1608, 9: 0.0, 10: 0.2449, 11: 0.0039, 12: 0.0, 13: 0.0})"
      ]
     },
     "execution_count": 45,
     "metadata": {},
     "output_type": "execute_result"
    }
   ],
   "source": [
    "gbt_next = GBTClassifier(maxDepth=10,maxIter=10,seed=100)\n",
    "gbt_model = gbt_next.fit(train)\n",
    "# results = gbt_model.transform(test)\n",
    "gbt_model.featureImportances"
   ]
  },
  {
   "cell_type": "code",
   "execution_count": 46,
   "metadata": {},
   "outputs": [
    {
     "data": {
      "text/plain": [
       "Text(0.5,1,'Boosted Trees importance scores')"
      ]
     },
     "execution_count": 46,
     "metadata": {},
     "output_type": "execute_result"
    },
    {
     "data": {
      "image/png": "[encoded data removed]",
      "text/plain": [
       "<matplotlib.figure.Figure at 0x7f9ef2230a58>"
      ]
     },
     "metadata": {
      "needs_background": "light"
     },
     "output_type": "display_data"
    }
   ],
   "source": [
    "features=['Downgrade','Thumbs Down','Thumbs Up','Add to Playlist','Add Friend','Error','Home',\n",
    "           'Roll Advert','gender_feat','level_feat','time_since_reg_feature','total_artists_played_feat'\n",
    "           ,'listening_time_feat','total_songs']\n",
    "# importance = [0.0705,0.1869,0.101,0.0368,0.1815,0.0045,0.0878,0.1266,0,0,0.1566,0.0432,0,0.0046]\n",
    "importance_1=[0.0199,0.1911,0.106, 0.1015,0.1016,0.0067,0.0636,0.1608,0,0,0.2449,0.0039,0,0.0]\n",
    "\n",
    "y_axis=np.arange(len(features))\n",
    "          \n",
    "        \n",
    "plt.barh(y_axis,importance_1)\n",
    "plt.yticks(y_axis,features)\n",
    "plt.xlabel('Importance scores')\n",
    "plt.title('Boosted Trees importance scores')\n"
   ]
  },
  {
   "cell_type": "markdown",
   "metadata": {},
   "source": [
    "Features like Thumbs up, Thumbs down and time since registration contribute the most"
   ]
  },
  {
   "cell_type": "markdown",
   "metadata": {},
   "source": [
    "# F1 scores and False positive rate for the respective models\n",
    "Looking at the F1 score, both Random forest and gradient boosting models perform equally well. "
   ]
  },
  {
   "cell_type": "code",
   "execution_count": 43,
   "metadata": {},
   "outputs": [
    {
     "name": "stdout",
     "output_type": "stream",
     "text": [
      "F1-Score for Logistic Regression model is: 71.23\n",
      "F1-Score for Random Forest model is: 74.52\n",
      "F1-Score for Gradient Boosting model is: 74.52\n"
     ]
    }
   ],
   "source": [
    "print('F1-Score for Logistic Regression model is: {}'.format(round(f1_metric_score_lr*100,2)))\n",
    "print('F1-Score for Random Forest model is: {}'.format(round(f1_metric_score_rf*100,2)))\n",
    "print('F1-Score for Gradient Boosting model is: {}'.format(round(f1_metric_score_gbt*100,2)))"
   ]
  },
  {
   "cell_type": "code",
   "execution_count": 42,
   "metadata": {},
   "outputs": [
    {
     "name": "stdout",
     "output_type": "stream",
     "text": [
      "False positive rate for Logistic Regression model is:0.07142857142857142\n",
      "False positive rate for Random Forest model is:0.09523809523809523\n",
      "False positive rate for Gradient Boosting model model is:0.09523809523809523\n"
     ]
    }
   ],
   "source": [
    "preds_and_labels_1 = lr_predictions.select(['prediction','label']).withColumn('label', F.col('label').cast(FloatType())).orderBy('prediction')\n",
    "preds_and_labels_2 = rf_predictions.select(['prediction','label']).withColumn('label', F.col('label').cast(FloatType())).orderBy('prediction')\n",
    "preds_and_labels_3 = gbt_predictions.select(['prediction','label']).withColumn('label', F.col('label').cast(FloatType())).orderBy('prediction')\n",
    "\n",
    "#select only prediction and label columns\n",
    "preds_and_labels_1 = preds_and_labels_1.select(['prediction','label'])\n",
    "preds_and_labels_2 = preds_and_labels_2.select(['prediction','label'])\n",
    "preds_and_labels_3 = preds_and_labels_3.select(['prediction','label'])\n",
    "\n",
    "metrics_1 = MulticlassMetrics(preds_and_labels_1.rdd.map(tuple))\n",
    "metrics_2 = MulticlassMetrics(preds_and_labels_2.rdd.map(tuple))\n",
    "metrics_3 = MulticlassMetrics(preds_and_labels_3.rdd.map(tuple))\n",
    "\n",
    "# print(metrics.confusionMatrix().toArray())\n",
    "# print(metrics.accuracy)\n",
    "print('False positive rate for Logistic Regression model is:{}'.format(metrics_1.falsePositiveRate(1.0)))\n",
    "print('False positive rate for Random Forest model is:{}'.format(metrics_2.falsePositiveRate(1.0)))\n",
    "print('False positive rate for Gradient Boosting model model is:{}'.format(metrics_3.falsePositiveRate(1.0)))"
   ]
  },
  {
   "cell_type": "markdown",
   "metadata": {},
   "source": [
    "# Final Steps\n",
    "Clean up your code, adding comments and renaming variables to make the code easier to read and maintain. Refer to the Spark Project Overview page and Data Scientist Capstone Project Rubric to make sure you are including all components of the capstone project and meet all expectations. Remember, this includes thorough documentation in a README file in a Github repository, as well as a web app or blog post."
   ]
  }
 ],
 "metadata": {
  "kernelspec": {
   "display_name": "Python 3",
   "language": "python",
   "name": "python3"
  },
  "language_info": {
   "codemirror_mode": {
    "name": "ipython",
    "version": 3
   },
   "file_extension": ".py",
   "mimetype": "text/x-python",
   "name": "python",
   "nbconvert_exporter": "python",
   "pygments_lexer": "ipython3",
   "version": "3.6.3"
  }
 },
 "nbformat": 4,
 "nbformat_minor": 2
}
